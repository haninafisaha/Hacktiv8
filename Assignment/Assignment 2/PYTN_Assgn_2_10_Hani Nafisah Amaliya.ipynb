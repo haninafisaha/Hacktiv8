{
 "cells": [
  {
   "cell_type": "markdown",
   "metadata": {},
   "source": [
    "<center><h1>ASSIGNMENT 2</h1></center><break><center><h2>STATISTICAL TREATMENT FOR RETAIL DATASETS</h2></center><break><center><h2>HANI NAFISAH AMALIYA</h2></center><break><center><h3>KELAS PYTN-10</h3></center>"
   ]
  },
  {
   "cell_type": "markdown",
   "metadata": {},
   "source": [
    "<p>Berikut ini merupakan Assignment 2 mengenai Statistics. Macam statistics yang akan dibahas pada Assignment 2 ini, antara lain : </p><break>\n",
    "\n",
    "<ol>\n",
    "    <li>Measure of Central Tendency : Mean</li>\n",
    "    <li>Measure of Cntral Tendency : Median</li>\n",
    "    <li>Measure of Central Tendency : Modus</li>\n",
    "    <li>Measure of Spread : Range</li>\n",
    "    <li>Measure of Spread : Variance</li>\n",
    "    <li>Measure of Spread : Standard Deviation</li>\n",
    "    <li>Probability Distribution</li>\n",
    "    <li>Convidence Intervals</li>\n",
    "    <li>Hypothesis Testing</li>\n",
    "</ol>"
   ]
  },
  {
   "cell_type": "code",
   "execution_count": 1,
   "metadata": {},
   "outputs": [],
   "source": [
    "# Import Library\n",
    "import pandas as pd\n",
    "import numpy as np\n",
    "import matplotlib.pyplot as plt\n",
    "import string\n",
    "import seaborn as sns\n",
    "import datetime\n",
    "import statsmodels.api as sm\n",
    "\n",
    "import warnings\n",
    "warnings.filterwarnings(\"ignore\")\n",
    "%matplotlib inline"
   ]
  },
  {
   "cell_type": "code",
   "execution_count": 2,
   "metadata": {},
   "outputs": [
    {
     "data": {
      "text/html": [
       "<div>\n",
       "<style scoped>\n",
       "    .dataframe tbody tr th:only-of-type {\n",
       "        vertical-align: middle;\n",
       "    }\n",
       "\n",
       "    .dataframe tbody tr th {\n",
       "        vertical-align: top;\n",
       "    }\n",
       "\n",
       "    .dataframe thead th {\n",
       "        text-align: right;\n",
       "    }\n",
       "</style>\n",
       "<table border=\"1\" class=\"dataframe\">\n",
       "  <thead>\n",
       "    <tr style=\"text-align: right;\">\n",
       "      <th></th>\n",
       "      <th>Unnamed: 0</th>\n",
       "      <th>BOROUGH</th>\n",
       "      <th>NEIGHBORHOOD</th>\n",
       "      <th>BUILDING CLASS CATEGORY</th>\n",
       "      <th>TAX CLASS AT PRESENT</th>\n",
       "      <th>BLOCK</th>\n",
       "      <th>LOT</th>\n",
       "      <th>EASE-MENT</th>\n",
       "      <th>BUILDING CLASS AT PRESENT</th>\n",
       "      <th>ADDRESS</th>\n",
       "      <th>...</th>\n",
       "      <th>RESIDENTIAL UNITS</th>\n",
       "      <th>COMMERCIAL UNITS</th>\n",
       "      <th>TOTAL UNITS</th>\n",
       "      <th>LAND SQUARE FEET</th>\n",
       "      <th>GROSS SQUARE FEET</th>\n",
       "      <th>YEAR BUILT</th>\n",
       "      <th>TAX CLASS AT TIME OF SALE</th>\n",
       "      <th>BUILDING CLASS AT TIME OF SALE</th>\n",
       "      <th>SALE PRICE</th>\n",
       "      <th>SALE DATE</th>\n",
       "    </tr>\n",
       "  </thead>\n",
       "  <tbody>\n",
       "    <tr>\n",
       "      <th>0</th>\n",
       "      <td>4</td>\n",
       "      <td>1</td>\n",
       "      <td>ALPHABET CITY</td>\n",
       "      <td>07 RENTALS - WALKUP APARTMENTS</td>\n",
       "      <td>2A</td>\n",
       "      <td>392</td>\n",
       "      <td>6</td>\n",
       "      <td>NaN</td>\n",
       "      <td>C2</td>\n",
       "      <td>153 AVENUE B</td>\n",
       "      <td>...</td>\n",
       "      <td>5</td>\n",
       "      <td>0</td>\n",
       "      <td>5</td>\n",
       "      <td>1633</td>\n",
       "      <td>6440</td>\n",
       "      <td>1900</td>\n",
       "      <td>2</td>\n",
       "      <td>C2</td>\n",
       "      <td>6625000</td>\n",
       "      <td>2017-07-19 00:00:00</td>\n",
       "    </tr>\n",
       "    <tr>\n",
       "      <th>1</th>\n",
       "      <td>5</td>\n",
       "      <td>1</td>\n",
       "      <td>ALPHABET CITY</td>\n",
       "      <td>07 RENTALS - WALKUP APARTMENTS</td>\n",
       "      <td>2</td>\n",
       "      <td>399</td>\n",
       "      <td>26</td>\n",
       "      <td>NaN</td>\n",
       "      <td>C7</td>\n",
       "      <td>234 EAST 4TH   STREET</td>\n",
       "      <td>...</td>\n",
       "      <td>28</td>\n",
       "      <td>3</td>\n",
       "      <td>31</td>\n",
       "      <td>4616</td>\n",
       "      <td>18690</td>\n",
       "      <td>1900</td>\n",
       "      <td>2</td>\n",
       "      <td>C7</td>\n",
       "      <td>-</td>\n",
       "      <td>2016-12-14 00:00:00</td>\n",
       "    </tr>\n",
       "    <tr>\n",
       "      <th>2</th>\n",
       "      <td>6</td>\n",
       "      <td>1</td>\n",
       "      <td>ALPHABET CITY</td>\n",
       "      <td>07 RENTALS - WALKUP APARTMENTS</td>\n",
       "      <td>2</td>\n",
       "      <td>399</td>\n",
       "      <td>39</td>\n",
       "      <td>NaN</td>\n",
       "      <td>C7</td>\n",
       "      <td>197 EAST 3RD   STREET</td>\n",
       "      <td>...</td>\n",
       "      <td>16</td>\n",
       "      <td>1</td>\n",
       "      <td>17</td>\n",
       "      <td>2212</td>\n",
       "      <td>7803</td>\n",
       "      <td>1900</td>\n",
       "      <td>2</td>\n",
       "      <td>C7</td>\n",
       "      <td>-</td>\n",
       "      <td>2016-12-09 00:00:00</td>\n",
       "    </tr>\n",
       "    <tr>\n",
       "      <th>3</th>\n",
       "      <td>7</td>\n",
       "      <td>1</td>\n",
       "      <td>ALPHABET CITY</td>\n",
       "      <td>07 RENTALS - WALKUP APARTMENTS</td>\n",
       "      <td>2B</td>\n",
       "      <td>402</td>\n",
       "      <td>21</td>\n",
       "      <td>NaN</td>\n",
       "      <td>C4</td>\n",
       "      <td>154 EAST 7TH STREET</td>\n",
       "      <td>...</td>\n",
       "      <td>10</td>\n",
       "      <td>0</td>\n",
       "      <td>10</td>\n",
       "      <td>2272</td>\n",
       "      <td>6794</td>\n",
       "      <td>1913</td>\n",
       "      <td>2</td>\n",
       "      <td>C4</td>\n",
       "      <td>3936272</td>\n",
       "      <td>2016-09-23 00:00:00</td>\n",
       "    </tr>\n",
       "    <tr>\n",
       "      <th>4</th>\n",
       "      <td>8</td>\n",
       "      <td>1</td>\n",
       "      <td>ALPHABET CITY</td>\n",
       "      <td>07 RENTALS - WALKUP APARTMENTS</td>\n",
       "      <td>2A</td>\n",
       "      <td>404</td>\n",
       "      <td>55</td>\n",
       "      <td>NaN</td>\n",
       "      <td>C2</td>\n",
       "      <td>301 EAST 10TH   STREET</td>\n",
       "      <td>...</td>\n",
       "      <td>6</td>\n",
       "      <td>0</td>\n",
       "      <td>6</td>\n",
       "      <td>2369</td>\n",
       "      <td>4615</td>\n",
       "      <td>1900</td>\n",
       "      <td>2</td>\n",
       "      <td>C2</td>\n",
       "      <td>8000000</td>\n",
       "      <td>2016-11-17 00:00:00</td>\n",
       "    </tr>\n",
       "    <tr>\n",
       "      <th>...</th>\n",
       "      <td>...</td>\n",
       "      <td>...</td>\n",
       "      <td>...</td>\n",
       "      <td>...</td>\n",
       "      <td>...</td>\n",
       "      <td>...</td>\n",
       "      <td>...</td>\n",
       "      <td>...</td>\n",
       "      <td>...</td>\n",
       "      <td>...</td>\n",
       "      <td>...</td>\n",
       "      <td>...</td>\n",
       "      <td>...</td>\n",
       "      <td>...</td>\n",
       "      <td>...</td>\n",
       "      <td>...</td>\n",
       "      <td>...</td>\n",
       "      <td>...</td>\n",
       "      <td>...</td>\n",
       "      <td>...</td>\n",
       "      <td>...</td>\n",
       "    </tr>\n",
       "    <tr>\n",
       "      <th>84543</th>\n",
       "      <td>8409</td>\n",
       "      <td>5</td>\n",
       "      <td>WOODROW</td>\n",
       "      <td>02 TWO FAMILY DWELLINGS</td>\n",
       "      <td>1</td>\n",
       "      <td>7349</td>\n",
       "      <td>34</td>\n",
       "      <td>NaN</td>\n",
       "      <td>B9</td>\n",
       "      <td>37 QUAIL LANE</td>\n",
       "      <td>...</td>\n",
       "      <td>2</td>\n",
       "      <td>0</td>\n",
       "      <td>2</td>\n",
       "      <td>2400</td>\n",
       "      <td>2575</td>\n",
       "      <td>1998</td>\n",
       "      <td>1</td>\n",
       "      <td>B9</td>\n",
       "      <td>450000</td>\n",
       "      <td>2016-11-28 00:00:00</td>\n",
       "    </tr>\n",
       "    <tr>\n",
       "      <th>84544</th>\n",
       "      <td>8410</td>\n",
       "      <td>5</td>\n",
       "      <td>WOODROW</td>\n",
       "      <td>02 TWO FAMILY DWELLINGS</td>\n",
       "      <td>1</td>\n",
       "      <td>7349</td>\n",
       "      <td>78</td>\n",
       "      <td>NaN</td>\n",
       "      <td>B9</td>\n",
       "      <td>32 PHEASANT LANE</td>\n",
       "      <td>...</td>\n",
       "      <td>2</td>\n",
       "      <td>0</td>\n",
       "      <td>2</td>\n",
       "      <td>2498</td>\n",
       "      <td>2377</td>\n",
       "      <td>1998</td>\n",
       "      <td>1</td>\n",
       "      <td>B9</td>\n",
       "      <td>550000</td>\n",
       "      <td>2017-04-21 00:00:00</td>\n",
       "    </tr>\n",
       "    <tr>\n",
       "      <th>84545</th>\n",
       "      <td>8411</td>\n",
       "      <td>5</td>\n",
       "      <td>WOODROW</td>\n",
       "      <td>02 TWO FAMILY DWELLINGS</td>\n",
       "      <td>1</td>\n",
       "      <td>7351</td>\n",
       "      <td>60</td>\n",
       "      <td>NaN</td>\n",
       "      <td>B2</td>\n",
       "      <td>49 PITNEY AVENUE</td>\n",
       "      <td>...</td>\n",
       "      <td>2</td>\n",
       "      <td>0</td>\n",
       "      <td>2</td>\n",
       "      <td>4000</td>\n",
       "      <td>1496</td>\n",
       "      <td>1925</td>\n",
       "      <td>1</td>\n",
       "      <td>B2</td>\n",
       "      <td>460000</td>\n",
       "      <td>2017-07-05 00:00:00</td>\n",
       "    </tr>\n",
       "    <tr>\n",
       "      <th>84546</th>\n",
       "      <td>8412</td>\n",
       "      <td>5</td>\n",
       "      <td>WOODROW</td>\n",
       "      <td>22 STORE BUILDINGS</td>\n",
       "      <td>4</td>\n",
       "      <td>7100</td>\n",
       "      <td>28</td>\n",
       "      <td>NaN</td>\n",
       "      <td>K6</td>\n",
       "      <td>2730 ARTHUR KILL ROAD</td>\n",
       "      <td>...</td>\n",
       "      <td>0</td>\n",
       "      <td>7</td>\n",
       "      <td>7</td>\n",
       "      <td>208033</td>\n",
       "      <td>64117</td>\n",
       "      <td>2001</td>\n",
       "      <td>4</td>\n",
       "      <td>K6</td>\n",
       "      <td>11693337</td>\n",
       "      <td>2016-12-21 00:00:00</td>\n",
       "    </tr>\n",
       "    <tr>\n",
       "      <th>84547</th>\n",
       "      <td>8413</td>\n",
       "      <td>5</td>\n",
       "      <td>WOODROW</td>\n",
       "      <td>35 INDOOR PUBLIC AND CULTURAL FACILITIES</td>\n",
       "      <td>4</td>\n",
       "      <td>7105</td>\n",
       "      <td>679</td>\n",
       "      <td>NaN</td>\n",
       "      <td>P9</td>\n",
       "      <td>155 CLAY PIT ROAD</td>\n",
       "      <td>...</td>\n",
       "      <td>0</td>\n",
       "      <td>1</td>\n",
       "      <td>1</td>\n",
       "      <td>10796</td>\n",
       "      <td>2400</td>\n",
       "      <td>2006</td>\n",
       "      <td>4</td>\n",
       "      <td>P9</td>\n",
       "      <td>69300</td>\n",
       "      <td>2016-10-27 00:00:00</td>\n",
       "    </tr>\n",
       "  </tbody>\n",
       "</table>\n",
       "<p>84548 rows × 22 columns</p>\n",
       "</div>"
      ],
      "text/plain": [
       "       Unnamed: 0  BOROUGH   NEIGHBORHOOD  \\\n",
       "0               4        1  ALPHABET CITY   \n",
       "1               5        1  ALPHABET CITY   \n",
       "2               6        1  ALPHABET CITY   \n",
       "3               7        1  ALPHABET CITY   \n",
       "4               8        1  ALPHABET CITY   \n",
       "...           ...      ...            ...   \n",
       "84543        8409        5        WOODROW   \n",
       "84544        8410        5        WOODROW   \n",
       "84545        8411        5        WOODROW   \n",
       "84546        8412        5        WOODROW   \n",
       "84547        8413        5        WOODROW   \n",
       "\n",
       "                           BUILDING CLASS CATEGORY TAX CLASS AT PRESENT  \\\n",
       "0      07 RENTALS - WALKUP APARTMENTS                                2A   \n",
       "1      07 RENTALS - WALKUP APARTMENTS                                 2   \n",
       "2      07 RENTALS - WALKUP APARTMENTS                                 2   \n",
       "3      07 RENTALS - WALKUP APARTMENTS                                2B   \n",
       "4      07 RENTALS - WALKUP APARTMENTS                                2A   \n",
       "...                                            ...                  ...   \n",
       "84543  02 TWO FAMILY DWELLINGS                                        1   \n",
       "84544  02 TWO FAMILY DWELLINGS                                        1   \n",
       "84545  02 TWO FAMILY DWELLINGS                                        1   \n",
       "84546  22 STORE BUILDINGS                                             4   \n",
       "84547  35 INDOOR PUBLIC AND CULTURAL FACILITIES                       4   \n",
       "\n",
       "       BLOCK  LOT  EASE-MENT BUILDING CLASS AT PRESENT  \\\n",
       "0        392    6        NaN                        C2   \n",
       "1        399   26        NaN                        C7   \n",
       "2        399   39        NaN                        C7   \n",
       "3        402   21        NaN                        C4   \n",
       "4        404   55        NaN                        C2   \n",
       "...      ...  ...        ...                       ...   \n",
       "84543   7349   34        NaN                        B9   \n",
       "84544   7349   78        NaN                        B9   \n",
       "84545   7351   60        NaN                        B2   \n",
       "84546   7100   28        NaN                        K6   \n",
       "84547   7105  679        NaN                        P9   \n",
       "\n",
       "                      ADDRESS  ... RESIDENTIAL UNITS  COMMERCIAL UNITS  \\\n",
       "0                153 AVENUE B  ...                 5                 0   \n",
       "1       234 EAST 4TH   STREET  ...                28                 3   \n",
       "2       197 EAST 3RD   STREET  ...                16                 1   \n",
       "3         154 EAST 7TH STREET  ...                10                 0   \n",
       "4      301 EAST 10TH   STREET  ...                 6                 0   \n",
       "...                       ...  ...               ...               ...   \n",
       "84543           37 QUAIL LANE  ...                 2                 0   \n",
       "84544        32 PHEASANT LANE  ...                 2                 0   \n",
       "84545        49 PITNEY AVENUE  ...                 2                 0   \n",
       "84546   2730 ARTHUR KILL ROAD  ...                 0                 7   \n",
       "84547       155 CLAY PIT ROAD  ...                 0                 1   \n",
       "\n",
       "       TOTAL UNITS  LAND SQUARE FEET  GROSS SQUARE FEET YEAR BUILT  \\\n",
       "0                5              1633               6440       1900   \n",
       "1               31              4616              18690       1900   \n",
       "2               17              2212               7803       1900   \n",
       "3               10              2272               6794       1913   \n",
       "4                6              2369               4615       1900   \n",
       "...            ...               ...                ...        ...   \n",
       "84543            2              2400               2575       1998   \n",
       "84544            2              2498               2377       1998   \n",
       "84545            2              4000               1496       1925   \n",
       "84546            7            208033              64117       2001   \n",
       "84547            1             10796               2400       2006   \n",
       "\n",
       "      TAX CLASS AT TIME OF SALE  BUILDING CLASS AT TIME OF SALE  SALE PRICE  \\\n",
       "0                             2                              C2     6625000   \n",
       "1                             2                              C7         -     \n",
       "2                             2                              C7         -     \n",
       "3                             2                              C4     3936272   \n",
       "4                             2                              C2     8000000   \n",
       "...                         ...                             ...         ...   \n",
       "84543                         1                              B9      450000   \n",
       "84544                         1                              B9      550000   \n",
       "84545                         1                              B2      460000   \n",
       "84546                         4                              K6    11693337   \n",
       "84547                         4                              P9       69300   \n",
       "\n",
       "                 SALE DATE  \n",
       "0      2017-07-19 00:00:00  \n",
       "1      2016-12-14 00:00:00  \n",
       "2      2016-12-09 00:00:00  \n",
       "3      2016-09-23 00:00:00  \n",
       "4      2016-11-17 00:00:00  \n",
       "...                    ...  \n",
       "84543  2016-11-28 00:00:00  \n",
       "84544  2017-04-21 00:00:00  \n",
       "84545  2017-07-05 00:00:00  \n",
       "84546  2016-12-21 00:00:00  \n",
       "84547  2016-10-27 00:00:00  \n",
       "\n",
       "[84548 rows x 22 columns]"
      ]
     },
     "execution_count": 2,
     "metadata": {},
     "output_type": "execute_result"
    }
   ],
   "source": [
    "# Membaca File\n",
    "df_sales = pd.read_csv('./dataset/nyc-rolling-sales.csv', skipinitialspace=True)\n",
    "df_sales"
   ]
  },
  {
   "cell_type": "code",
   "execution_count": 3,
   "metadata": {},
   "outputs": [
    {
     "name": "stdout",
     "output_type": "stream",
     "text": [
      "<class 'pandas.core.frame.DataFrame'>\n",
      "RangeIndex: 84548 entries, 0 to 84547\n",
      "Data columns (total 22 columns):\n",
      " #   Column                          Non-Null Count  Dtype  \n",
      "---  ------                          --------------  -----  \n",
      " 0   Unnamed: 0                      84548 non-null  int64  \n",
      " 1   BOROUGH                         84548 non-null  int64  \n",
      " 2   NEIGHBORHOOD                    84548 non-null  object \n",
      " 3   BUILDING CLASS CATEGORY         84548 non-null  object \n",
      " 4   TAX CLASS AT PRESENT            83810 non-null  object \n",
      " 5   BLOCK                           84548 non-null  int64  \n",
      " 6   LOT                             84548 non-null  int64  \n",
      " 7   EASE-MENT                       0 non-null      float64\n",
      " 8   BUILDING CLASS AT PRESENT       83810 non-null  object \n",
      " 9   ADDRESS                         84548 non-null  object \n",
      " 10  APARTMENT NUMBER                19052 non-null  object \n",
      " 11  ZIP CODE                        84548 non-null  int64  \n",
      " 12  RESIDENTIAL UNITS               84548 non-null  int64  \n",
      " 13  COMMERCIAL UNITS                84548 non-null  int64  \n",
      " 14  TOTAL UNITS                     84548 non-null  int64  \n",
      " 15  LAND SQUARE FEET                84548 non-null  object \n",
      " 16  GROSS SQUARE FEET               84548 non-null  object \n",
      " 17  YEAR BUILT                      84548 non-null  int64  \n",
      " 18  TAX CLASS AT TIME OF SALE       84548 non-null  int64  \n",
      " 19  BUILDING CLASS AT TIME OF SALE  84548 non-null  object \n",
      " 20  SALE PRICE                      84548 non-null  object \n",
      " 21  SALE DATE                       84548 non-null  object \n",
      "dtypes: float64(1), int64(10), object(11)\n",
      "memory usage: 14.2+ MB\n"
     ]
    }
   ],
   "source": [
    "df_sales.info()"
   ]
  },
  {
   "cell_type": "code",
   "execution_count": 4,
   "metadata": {},
   "outputs": [
    {
     "data": {
      "text/plain": [
       "(84548, 22)"
      ]
     },
     "execution_count": 4,
     "metadata": {},
     "output_type": "execute_result"
    }
   ],
   "source": [
    "df_sales.shape"
   ]
  },
  {
   "cell_type": "code",
   "execution_count": 5,
   "metadata": {},
   "outputs": [
    {
     "data": {
      "text/plain": [
       "EASE-MENT                         84548\n",
       "APARTMENT NUMBER                  65496\n",
       "TAX CLASS AT PRESENT                738\n",
       "BUILDING CLASS AT PRESENT           738\n",
       "SALE PRICE                            0\n",
       "BOROUGH                               0\n",
       "NEIGHBORHOOD                          0\n",
       "BUILDING CLASS CATEGORY               0\n",
       "BLOCK                                 0\n",
       "LOT                                   0\n",
       "ADDRESS                               0\n",
       "SALE DATE                             0\n",
       "ZIP CODE                              0\n",
       "RESIDENTIAL UNITS                     0\n",
       "COMMERCIAL UNITS                      0\n",
       "TOTAL UNITS                           0\n",
       "LAND SQUARE FEET                      0\n",
       "GROSS SQUARE FEET                     0\n",
       "YEAR BUILT                            0\n",
       "TAX CLASS AT TIME OF SALE             0\n",
       "BUILDING CLASS AT TIME OF SALE        0\n",
       "Unnamed: 0                            0\n",
       "dtype: int64"
      ]
     },
     "execution_count": 5,
     "metadata": {},
     "output_type": "execute_result"
    }
   ],
   "source": [
    "df_sales.isnull().sum().sort_values(ascending=False)"
   ]
  },
  {
   "cell_type": "code",
   "execution_count": 6,
   "metadata": {},
   "outputs": [],
   "source": [
    "# Menghapus kolom \"Unnamed : 0\" karena tidak diperlukan dalam proses analisis\n",
    "df_sales.drop('Unnamed: 0', axis=1, inplace=True)"
   ]
  },
  {
   "cell_type": "code",
   "execution_count": 7,
   "metadata": {},
   "outputs": [],
   "source": [
    "# Menghapus kolom \"EASE-MENT\" karena berisi NaN\n",
    "df_sales.drop('EASE-MENT', axis=1, inplace=True)"
   ]
  },
  {
   "cell_type": "code",
   "execution_count": 8,
   "metadata": {},
   "outputs": [],
   "source": [
    "# Menghapus kolom \"'ADDRESS','APARTMENT NUMBER', 'ZIP CODE'\" karena tidak diperlukan dalam proses analisis\n",
    "df_sales.drop(labels=['ADDRESS','APARTMENT NUMBER', 'ZIP CODE'], axis=1, inplace=True)"
   ]
  },
  {
   "cell_type": "code",
   "execution_count": 9,
   "metadata": {},
   "outputs": [],
   "source": [
    "#'SALE PRICE' harus bertipe numerik, missing value akan diset sebagai NaN\n",
    "df_sales['SALE PRICE'] = pd.to_numeric(df_sales['SALE PRICE'], errors='coerce')\n",
    "\n",
    "# 'LAND SQUARE FEET' dan 'GROSS SQUARE FEET' harus bertipe numerik\n",
    "df_sales['LAND SQUARE FEET'] = pd.to_numeric(df_sales['LAND SQUARE FEET'], errors='coerce')\n",
    "df_sales['GROSS SQUARE FEET'] = pd.to_numeric(df_sales['GROSS SQUARE FEET'], errors='coerce')\n",
    "\n",
    "# 'SALE DATE' harus bertipe datetime\n",
    "df_sales['SALE DATE'] = pd.to_datetime(df_sales['SALE DATE'], errors='coerce')\n",
    "\n",
    "# Kolom di bawah ini harus categorical\n",
    "categorical = ['NEIGHBORHOOD', 'BUILDING CLASS CATEGORY', 'TAX CLASS AT PRESENT', 'BUILDING CLASS AT PRESENT',\n",
    "         'BUILDING CLASS AT TIME OF SALE', 'TAX CLASS AT TIME OF SALE']\n",
    "for col in categorical:\n",
    "    df_sales[col] = df_sales[col].astype('category')"
   ]
  },
  {
   "cell_type": "code",
   "execution_count": 10,
   "metadata": {},
   "outputs": [
    {
     "name": "stdout",
     "output_type": "stream",
     "text": [
      "<class 'pandas.core.frame.DataFrame'>\n",
      "RangeIndex: 84548 entries, 0 to 84547\n",
      "Data columns (total 17 columns):\n",
      " #   Column                          Non-Null Count  Dtype         \n",
      "---  ------                          --------------  -----         \n",
      " 0   BOROUGH                         84548 non-null  int64         \n",
      " 1   NEIGHBORHOOD                    84548 non-null  category      \n",
      " 2   BUILDING CLASS CATEGORY         84548 non-null  category      \n",
      " 3   TAX CLASS AT PRESENT            83810 non-null  category      \n",
      " 4   BLOCK                           84548 non-null  int64         \n",
      " 5   LOT                             84548 non-null  int64         \n",
      " 6   BUILDING CLASS AT PRESENT       83810 non-null  category      \n",
      " 7   RESIDENTIAL UNITS               84548 non-null  int64         \n",
      " 8   COMMERCIAL UNITS                84548 non-null  int64         \n",
      " 9   TOTAL UNITS                     84548 non-null  int64         \n",
      " 10  LAND SQUARE FEET                58296 non-null  float64       \n",
      " 11  GROSS SQUARE FEET               56936 non-null  float64       \n",
      " 12  YEAR BUILT                      84548 non-null  int64         \n",
      " 13  TAX CLASS AT TIME OF SALE       84548 non-null  category      \n",
      " 14  BUILDING CLASS AT TIME OF SALE  84548 non-null  category      \n",
      " 15  SALE PRICE                      69987 non-null  float64       \n",
      " 16  SALE DATE                       84548 non-null  datetime64[ns]\n",
      "dtypes: category(6), datetime64[ns](1), float64(3), int64(7)\n",
      "memory usage: 7.8 MB\n"
     ]
    }
   ],
   "source": [
    "df_sales.info()"
   ]
  },
  {
   "cell_type": "code",
   "execution_count": 11,
   "metadata": {},
   "outputs": [
    {
     "data": {
      "text/html": [
       "<div>\n",
       "<style scoped>\n",
       "    .dataframe tbody tr th:only-of-type {\n",
       "        vertical-align: middle;\n",
       "    }\n",
       "\n",
       "    .dataframe tbody tr th {\n",
       "        vertical-align: top;\n",
       "    }\n",
       "\n",
       "    .dataframe thead th {\n",
       "        text-align: right;\n",
       "    }\n",
       "</style>\n",
       "<table border=\"1\" class=\"dataframe\">\n",
       "  <thead>\n",
       "    <tr style=\"text-align: right;\">\n",
       "      <th></th>\n",
       "      <th>BOROUGH</th>\n",
       "      <th>NEIGHBORHOOD</th>\n",
       "      <th>BUILDING CLASS CATEGORY</th>\n",
       "      <th>TAX CLASS AT PRESENT</th>\n",
       "      <th>BLOCK</th>\n",
       "      <th>LOT</th>\n",
       "      <th>BUILDING CLASS AT PRESENT</th>\n",
       "      <th>RESIDENTIAL UNITS</th>\n",
       "      <th>COMMERCIAL UNITS</th>\n",
       "      <th>TOTAL UNITS</th>\n",
       "      <th>LAND SQUARE FEET</th>\n",
       "      <th>GROSS SQUARE FEET</th>\n",
       "      <th>YEAR BUILT</th>\n",
       "      <th>TAX CLASS AT TIME OF SALE</th>\n",
       "      <th>BUILDING CLASS AT TIME OF SALE</th>\n",
       "      <th>SALE PRICE</th>\n",
       "      <th>SALE DATE</th>\n",
       "    </tr>\n",
       "  </thead>\n",
       "  <tbody>\n",
       "    <tr>\n",
       "      <th>0</th>\n",
       "      <td>1</td>\n",
       "      <td>ALPHABET CITY</td>\n",
       "      <td>07 RENTALS - WALKUP APARTMENTS</td>\n",
       "      <td>2A</td>\n",
       "      <td>392</td>\n",
       "      <td>6</td>\n",
       "      <td>C2</td>\n",
       "      <td>5</td>\n",
       "      <td>0</td>\n",
       "      <td>5</td>\n",
       "      <td>1633.0</td>\n",
       "      <td>6440.0</td>\n",
       "      <td>1900</td>\n",
       "      <td>2</td>\n",
       "      <td>C2</td>\n",
       "      <td>6625000.0</td>\n",
       "      <td>2017-07-19</td>\n",
       "    </tr>\n",
       "    <tr>\n",
       "      <th>1</th>\n",
       "      <td>1</td>\n",
       "      <td>ALPHABET CITY</td>\n",
       "      <td>07 RENTALS - WALKUP APARTMENTS</td>\n",
       "      <td>2</td>\n",
       "      <td>399</td>\n",
       "      <td>26</td>\n",
       "      <td>C7</td>\n",
       "      <td>28</td>\n",
       "      <td>3</td>\n",
       "      <td>31</td>\n",
       "      <td>4616.0</td>\n",
       "      <td>18690.0</td>\n",
       "      <td>1900</td>\n",
       "      <td>2</td>\n",
       "      <td>C7</td>\n",
       "      <td>NaN</td>\n",
       "      <td>2016-12-14</td>\n",
       "    </tr>\n",
       "    <tr>\n",
       "      <th>2</th>\n",
       "      <td>1</td>\n",
       "      <td>ALPHABET CITY</td>\n",
       "      <td>07 RENTALS - WALKUP APARTMENTS</td>\n",
       "      <td>2</td>\n",
       "      <td>399</td>\n",
       "      <td>39</td>\n",
       "      <td>C7</td>\n",
       "      <td>16</td>\n",
       "      <td>1</td>\n",
       "      <td>17</td>\n",
       "      <td>2212.0</td>\n",
       "      <td>7803.0</td>\n",
       "      <td>1900</td>\n",
       "      <td>2</td>\n",
       "      <td>C7</td>\n",
       "      <td>NaN</td>\n",
       "      <td>2016-12-09</td>\n",
       "    </tr>\n",
       "    <tr>\n",
       "      <th>3</th>\n",
       "      <td>1</td>\n",
       "      <td>ALPHABET CITY</td>\n",
       "      <td>07 RENTALS - WALKUP APARTMENTS</td>\n",
       "      <td>2B</td>\n",
       "      <td>402</td>\n",
       "      <td>21</td>\n",
       "      <td>C4</td>\n",
       "      <td>10</td>\n",
       "      <td>0</td>\n",
       "      <td>10</td>\n",
       "      <td>2272.0</td>\n",
       "      <td>6794.0</td>\n",
       "      <td>1913</td>\n",
       "      <td>2</td>\n",
       "      <td>C4</td>\n",
       "      <td>3936272.0</td>\n",
       "      <td>2016-09-23</td>\n",
       "    </tr>\n",
       "    <tr>\n",
       "      <th>4</th>\n",
       "      <td>1</td>\n",
       "      <td>ALPHABET CITY</td>\n",
       "      <td>07 RENTALS - WALKUP APARTMENTS</td>\n",
       "      <td>2A</td>\n",
       "      <td>404</td>\n",
       "      <td>55</td>\n",
       "      <td>C2</td>\n",
       "      <td>6</td>\n",
       "      <td>0</td>\n",
       "      <td>6</td>\n",
       "      <td>2369.0</td>\n",
       "      <td>4615.0</td>\n",
       "      <td>1900</td>\n",
       "      <td>2</td>\n",
       "      <td>C2</td>\n",
       "      <td>8000000.0</td>\n",
       "      <td>2016-11-17</td>\n",
       "    </tr>\n",
       "    <tr>\n",
       "      <th>...</th>\n",
       "      <td>...</td>\n",
       "      <td>...</td>\n",
       "      <td>...</td>\n",
       "      <td>...</td>\n",
       "      <td>...</td>\n",
       "      <td>...</td>\n",
       "      <td>...</td>\n",
       "      <td>...</td>\n",
       "      <td>...</td>\n",
       "      <td>...</td>\n",
       "      <td>...</td>\n",
       "      <td>...</td>\n",
       "      <td>...</td>\n",
       "      <td>...</td>\n",
       "      <td>...</td>\n",
       "      <td>...</td>\n",
       "      <td>...</td>\n",
       "    </tr>\n",
       "    <tr>\n",
       "      <th>84543</th>\n",
       "      <td>5</td>\n",
       "      <td>WOODROW</td>\n",
       "      <td>02 TWO FAMILY DWELLINGS</td>\n",
       "      <td>1</td>\n",
       "      <td>7349</td>\n",
       "      <td>34</td>\n",
       "      <td>B9</td>\n",
       "      <td>2</td>\n",
       "      <td>0</td>\n",
       "      <td>2</td>\n",
       "      <td>2400.0</td>\n",
       "      <td>2575.0</td>\n",
       "      <td>1998</td>\n",
       "      <td>1</td>\n",
       "      <td>B9</td>\n",
       "      <td>450000.0</td>\n",
       "      <td>2016-11-28</td>\n",
       "    </tr>\n",
       "    <tr>\n",
       "      <th>84544</th>\n",
       "      <td>5</td>\n",
       "      <td>WOODROW</td>\n",
       "      <td>02 TWO FAMILY DWELLINGS</td>\n",
       "      <td>1</td>\n",
       "      <td>7349</td>\n",
       "      <td>78</td>\n",
       "      <td>B9</td>\n",
       "      <td>2</td>\n",
       "      <td>0</td>\n",
       "      <td>2</td>\n",
       "      <td>2498.0</td>\n",
       "      <td>2377.0</td>\n",
       "      <td>1998</td>\n",
       "      <td>1</td>\n",
       "      <td>B9</td>\n",
       "      <td>550000.0</td>\n",
       "      <td>2017-04-21</td>\n",
       "    </tr>\n",
       "    <tr>\n",
       "      <th>84545</th>\n",
       "      <td>5</td>\n",
       "      <td>WOODROW</td>\n",
       "      <td>02 TWO FAMILY DWELLINGS</td>\n",
       "      <td>1</td>\n",
       "      <td>7351</td>\n",
       "      <td>60</td>\n",
       "      <td>B2</td>\n",
       "      <td>2</td>\n",
       "      <td>0</td>\n",
       "      <td>2</td>\n",
       "      <td>4000.0</td>\n",
       "      <td>1496.0</td>\n",
       "      <td>1925</td>\n",
       "      <td>1</td>\n",
       "      <td>B2</td>\n",
       "      <td>460000.0</td>\n",
       "      <td>2017-07-05</td>\n",
       "    </tr>\n",
       "    <tr>\n",
       "      <th>84546</th>\n",
       "      <td>5</td>\n",
       "      <td>WOODROW</td>\n",
       "      <td>22 STORE BUILDINGS</td>\n",
       "      <td>4</td>\n",
       "      <td>7100</td>\n",
       "      <td>28</td>\n",
       "      <td>K6</td>\n",
       "      <td>0</td>\n",
       "      <td>7</td>\n",
       "      <td>7</td>\n",
       "      <td>208033.0</td>\n",
       "      <td>64117.0</td>\n",
       "      <td>2001</td>\n",
       "      <td>4</td>\n",
       "      <td>K6</td>\n",
       "      <td>11693337.0</td>\n",
       "      <td>2016-12-21</td>\n",
       "    </tr>\n",
       "    <tr>\n",
       "      <th>84547</th>\n",
       "      <td>5</td>\n",
       "      <td>WOODROW</td>\n",
       "      <td>35 INDOOR PUBLIC AND CULTURAL FACILITIES</td>\n",
       "      <td>4</td>\n",
       "      <td>7105</td>\n",
       "      <td>679</td>\n",
       "      <td>P9</td>\n",
       "      <td>0</td>\n",
       "      <td>1</td>\n",
       "      <td>1</td>\n",
       "      <td>10796.0</td>\n",
       "      <td>2400.0</td>\n",
       "      <td>2006</td>\n",
       "      <td>4</td>\n",
       "      <td>P9</td>\n",
       "      <td>69300.0</td>\n",
       "      <td>2016-10-27</td>\n",
       "    </tr>\n",
       "  </tbody>\n",
       "</table>\n",
       "<p>84548 rows × 17 columns</p>\n",
       "</div>"
      ],
      "text/plain": [
       "       BOROUGH   NEIGHBORHOOD                      BUILDING CLASS CATEGORY  \\\n",
       "0            1  ALPHABET CITY  07 RENTALS - WALKUP APARTMENTS                \n",
       "1            1  ALPHABET CITY  07 RENTALS - WALKUP APARTMENTS                \n",
       "2            1  ALPHABET CITY  07 RENTALS - WALKUP APARTMENTS                \n",
       "3            1  ALPHABET CITY  07 RENTALS - WALKUP APARTMENTS                \n",
       "4            1  ALPHABET CITY  07 RENTALS - WALKUP APARTMENTS                \n",
       "...        ...            ...                                          ...   \n",
       "84543        5        WOODROW  02 TWO FAMILY DWELLINGS                       \n",
       "84544        5        WOODROW  02 TWO FAMILY DWELLINGS                       \n",
       "84545        5        WOODROW  02 TWO FAMILY DWELLINGS                       \n",
       "84546        5        WOODROW  22 STORE BUILDINGS                            \n",
       "84547        5        WOODROW  35 INDOOR PUBLIC AND CULTURAL FACILITIES      \n",
       "\n",
       "      TAX CLASS AT PRESENT  BLOCK  LOT BUILDING CLASS AT PRESENT  \\\n",
       "0                       2A    392    6                        C2   \n",
       "1                        2    399   26                        C7   \n",
       "2                        2    399   39                        C7   \n",
       "3                       2B    402   21                        C4   \n",
       "4                       2A    404   55                        C2   \n",
       "...                    ...    ...  ...                       ...   \n",
       "84543                    1   7349   34                        B9   \n",
       "84544                    1   7349   78                        B9   \n",
       "84545                    1   7351   60                        B2   \n",
       "84546                    4   7100   28                        K6   \n",
       "84547                    4   7105  679                        P9   \n",
       "\n",
       "       RESIDENTIAL UNITS  COMMERCIAL UNITS  TOTAL UNITS  LAND SQUARE FEET  \\\n",
       "0                      5                 0            5            1633.0   \n",
       "1                     28                 3           31            4616.0   \n",
       "2                     16                 1           17            2212.0   \n",
       "3                     10                 0           10            2272.0   \n",
       "4                      6                 0            6            2369.0   \n",
       "...                  ...               ...          ...               ...   \n",
       "84543                  2                 0            2            2400.0   \n",
       "84544                  2                 0            2            2498.0   \n",
       "84545                  2                 0            2            4000.0   \n",
       "84546                  0                 7            7          208033.0   \n",
       "84547                  0                 1            1           10796.0   \n",
       "\n",
       "       GROSS SQUARE FEET  YEAR BUILT TAX CLASS AT TIME OF SALE  \\\n",
       "0                 6440.0        1900                         2   \n",
       "1                18690.0        1900                         2   \n",
       "2                 7803.0        1900                         2   \n",
       "3                 6794.0        1913                         2   \n",
       "4                 4615.0        1900                         2   \n",
       "...                  ...         ...                       ...   \n",
       "84543             2575.0        1998                         1   \n",
       "84544             2377.0        1998                         1   \n",
       "84545             1496.0        1925                         1   \n",
       "84546            64117.0        2001                         4   \n",
       "84547             2400.0        2006                         4   \n",
       "\n",
       "      BUILDING CLASS AT TIME OF SALE  SALE PRICE  SALE DATE  \n",
       "0                                 C2   6625000.0 2017-07-19  \n",
       "1                                 C7         NaN 2016-12-14  \n",
       "2                                 C7         NaN 2016-12-09  \n",
       "3                                 C4   3936272.0 2016-09-23  \n",
       "4                                 C2   8000000.0 2016-11-17  \n",
       "...                              ...         ...        ...  \n",
       "84543                             B9    450000.0 2016-11-28  \n",
       "84544                             B9    550000.0 2017-04-21  \n",
       "84545                             B2    460000.0 2017-07-05  \n",
       "84546                             K6  11693337.0 2016-12-21  \n",
       "84547                             P9     69300.0 2016-10-27  \n",
       "\n",
       "[84548 rows x 17 columns]"
      ]
     },
     "execution_count": 11,
     "metadata": {},
     "output_type": "execute_result"
    }
   ],
   "source": [
    "df_sales"
   ]
  },
  {
   "cell_type": "code",
   "execution_count": 12,
   "metadata": {},
   "outputs": [
    {
     "data": {
      "text/plain": [
       "959"
      ]
     },
     "execution_count": 12,
     "metadata": {},
     "output_type": "execute_result"
    }
   ],
   "source": [
    "sum(df_sales.duplicated())"
   ]
  },
  {
   "cell_type": "code",
   "execution_count": 13,
   "metadata": {},
   "outputs": [],
   "source": [
    "df_sales = df_sales.drop_duplicates(df_sales.columns, keep='last')"
   ]
  },
  {
   "cell_type": "code",
   "execution_count": 14,
   "metadata": {},
   "outputs": [
    {
     "data": {
      "text/plain": [
       "0"
      ]
     },
     "execution_count": 14,
     "metadata": {},
     "output_type": "execute_result"
    }
   ],
   "source": [
    "sum(df_sales.duplicated())"
   ]
  },
  {
   "cell_type": "code",
   "execution_count": 15,
   "metadata": {},
   "outputs": [
    {
     "name": "stdout",
     "output_type": "stream",
     "text": [
      "                 TAX CLASS AT PRESENT  BUILDING CLASS AT PRESENT  \\\n",
      "percent missing              0.882891                   0.882891   \n",
      "num of missing                    NaN                        NaN   \n",
      "\n",
      "                 LAND SQUARE FEET  GROSS SQUARE FEET    SALE PRICE  \n",
      "percent missing          31.04954          32.638266     16.837144  \n",
      "num of missing        25954.00000       27282.000000  14074.000000  \n"
     ]
    }
   ],
   "source": [
    "missing_value = df_sales.isnull().sum()/len(df_sales)*100\n",
    "print(pd.DataFrame([missing_value[missing_value>0], pd.Series(df_sales.isnull().sum()[df_sales.isnull().sum()>1000])],\n",
    "                  index=['percent missing', 'num of missing']))"
   ]
  },
  {
   "cell_type": "code",
   "execution_count": 16,
   "metadata": {},
   "outputs": [
    {
     "data": {
      "text/plain": [
       "count    6.951500e+04\n",
       "mean     1.282005e+06\n",
       "std      1.143784e+07\n",
       "min      0.000000e+00\n",
       "25%      2.300000e+05\n",
       "50%      5.345810e+05\n",
       "75%      9.500000e+05\n",
       "max      2.210000e+09\n",
       "Name: SALE PRICE, dtype: float64"
      ]
     },
     "execution_count": 16,
     "metadata": {},
     "output_type": "execute_result"
    }
   ],
   "source": [
    "df_sales['SALE PRICE'].describe()"
   ]
  },
  {
   "cell_type": "code",
   "execution_count": 17,
   "metadata": {},
   "outputs": [],
   "source": [
    "# Menghilangkan semua value yang mengandung null\n",
    "df_sales = df_sales[df_sales['SALE PRICE'].notnull()]\n",
    "df_sales = df_sales[df_sales['LAND SQUARE FEET'].notnull()]\n",
    "df_sales = df_sales[df_sales['GROSS SQUARE FEET'].notnull()]"
   ]
  },
  {
   "cell_type": "code",
   "execution_count": 18,
   "metadata": {},
   "outputs": [
    {
     "data": {
      "image/png": "[encoded data removed]",
      "text/plain": [
       "<Figure size 720x432 with 1 Axes>"
      ]
     },
     "metadata": {
      "needs_background": "light"
     },
     "output_type": "display_data"
    }
   ],
   "source": [
    "#get data property proportion\n",
    "x= df_sales[['SALE PRICE']].sort_values(by='SALE PRICE').reset_index()\n",
    "x['PROPERTY PROPORTION']= 1\n",
    "x['PROPERTY PROPORTION']= x['PROPERTY PROPORTION'].cumsum()\n",
    "x['PROPERTY PROPORTION'] = 100 * x['PROPERTY PROPORTION']/len(x['PROPERTY PROPORTION'])\n",
    "\n",
    "#set size for the plot\n",
    "plt.figure(figsize=(10,6))\n",
    "\n",
    "#plot the data\n",
    "plt.plot(x['PROPERTY PROPORTION'], x['SALE PRICE'], linestyle=None, marker='*')\n",
    "plt.title(\"Distribusi Kumulatif dari Properties berdasarkan Harga\")\n",
    "plt.xlabel(\"Persentase Properties berdasarkan Harga \")\n",
    "plt.ylabel(\"Harga Jual\")\n",
    "plt.ticklabel_format(style='plain',axis='y')\n",
    "plt.show()"
   ]
  },
  {
   "cell_type": "markdown",
   "metadata": {},
   "source": [
    "Untuk menghilangkan outliers kita bisa mengambil data antara 100.000 USD sampai 5.000.000 USD"
   ]
  },
  {
   "cell_type": "code",
   "execution_count": 19,
   "metadata": {},
   "outputs": [],
   "source": [
    "df_sales = df_sales[(df_sales['SALE PRICE']>100000) & (df_sales['SALE PRICE']<5000000)]"
   ]
  },
  {
   "cell_type": "code",
   "execution_count": 20,
   "metadata": {
    "scrolled": true
   },
   "outputs": [
    {
     "data": {
      "image/png": "[encoded data removed]",
      "text/plain": [
       "<Figure size 720x432 with 1 Axes>"
      ]
     },
     "metadata": {
      "needs_background": "light"
     },
     "output_type": "display_data"
    }
   ],
   "source": [
    "# do the same as above to get data property proportion and plot the data, then see the result\n",
    "x = df_sales[['SALE PRICE']].sort_values(by='SALE PRICE').reset_index()\n",
    "x['PROPERTY PROPORTION']= 1\n",
    "x['PROPERTY PROPORTION']= x['PROPERTY PROPORTION'].cumsum()\n",
    "x['PROPERTY PROPORTION'] = 100 * x['PROPERTY PROPORTION']/len(x['PROPERTY PROPORTION'])\n",
    "\n",
    "plt.figure(figsize=(10,6))\n",
    "plt.plot(x['PROPERTY PROPORTION'], x['SALE PRICE'], linestyle=None, marker='*')\n",
    "plt.title(\"Distribusi Kumulatif dari Properties berdasarkan Harga\")\n",
    "plt.xlabel(\"Persentase Properties berdasarkan Harga \")\n",
    "plt.ylabel(\"Harga Jual\")\n",
    "plt.ticklabel_format(style='plain',axis='y')\n",
    "plt.show()"
   ]
  },
  {
   "cell_type": "markdown",
   "metadata": {},
   "source": [
    "Data distribusi sudah tidak ada outliers"
   ]
  },
  {
   "cell_type": "code",
   "execution_count": 21,
   "metadata": {},
   "outputs": [
    {
     "data": {
      "image/png": "[encoded data removed]",
      "text/plain": [
       "<Figure size 720x432 with 1 Axes>"
      ]
     },
     "metadata": {
      "needs_background": "light"
     },
     "output_type": "display_data"
    }
   ],
   "source": [
    "# plot curve using boxplot to see another view of the data\n",
    "plt.figure(figsize=(10,6))\n",
    "sns.boxplot(x='SALE PRICE', data = df_sales)\n",
    "plt.ticklabel_format(style='plain', axis='x')\n",
    "plt.title(\"Boxplot dari Harga Jual (USD)\")\n",
    "plt.show()\n"
   ]
  },
  {
   "cell_type": "markdown",
   "metadata": {},
   "source": [
    "Ploting menggunakan kurva boxplot dapat kita lihat sudah tidak ada outliers, data sudah lebih baik"
   ]
  },
  {
   "cell_type": "markdown",
   "metadata": {},
   "source": [
    "## 1. Measure of Central Tendency : Mean"
   ]
  },
  {
   "cell_type": "markdown",
   "metadata": {},
   "source": [
    "<p>Mean atau Average adalah central tendency dari data, angka diantara seluruh data tersebar, angka tunggal yang dapat memperkirakan nilai seluruh kumpulan data. Rata-rata dihitung dengan jumlah semua nilai, dibagi dengan jumlah nilai.</p>"
   ]
  },
  {
   "cell_type": "code",
   "execution_count": 22,
   "metadata": {},
   "outputs": [
    {
     "name": "stdout",
     "output_type": "stream",
     "text": [
      "795972.4573388677\n"
     ]
    }
   ],
   "source": [
    "mean = df_sales['SALE PRICE'].mean()\n",
    "\n",
    "print(mean)"
   ]
  },
  {
   "cell_type": "markdown",
   "metadata": {},
   "source": [
    "## 2. Measure of Central Tendency : Median"
   ]
  },
  {
   "cell_type": "markdown",
   "metadata": {},
   "source": [
    "<p>Median adalah nilai yang membagi data dalam 2 bagian yang sama. Median merupakan nilai tengah atau titik tengah dalam data dan juga disebut <b>persentil ke-50.</b></p>"
   ]
  },
  {
   "cell_type": "code",
   "execution_count": 23,
   "metadata": {},
   "outputs": [
    {
     "name": "stdout",
     "output_type": "stream",
     "text": [
      "615000.0\n"
     ]
    }
   ],
   "source": [
    "median = df_sales['SALE PRICE'].median()\n",
    "\n",
    "print(median)"
   ]
  },
  {
   "cell_type": "code",
   "execution_count": 24,
   "metadata": {},
   "outputs": [
    {
     "data": {
      "image/png": "[encoded data removed]",
      "text/plain": [
       "<Figure size 720x432 with 1 Axes>"
      ]
     },
     "metadata": {
      "needs_background": "light"
     },
     "output_type": "display_data"
    }
   ],
   "source": [
    "#let's take a look distribution of the data, the data is skewness or normal distribution\n",
    "plt.figure(figsize=(10,6))\n",
    "sns.distplot(df_sales['SALE PRICE'])\n",
    "plt.title('Histogram dari Harga Jual (USD)')\n",
    "plt.ylabel(\"Frekuensi\")\n",
    "plt.axvline(df_sales[(df_sales['SALE PRICE']>100000) & (df_sales['SALE PRICE'] < 5000000)]['SALE PRICE'].mean(), c='red')\n",
    "plt.axvline(df_sales[(df_sales['SALE PRICE']>100000) & (df_sales['SALE PRICE'] < 5000000)]['SALE PRICE'].median(), c='blue')\n",
    "plt.text(200000,0.0000013, \"median\")\n",
    "plt.text(850000,0.0000011, \"mean\")\n",
    "plt.show()"
   ]
  },
  {
   "cell_type": "markdown",
   "metadata": {},
   "source": [
    "Sebaran data diatas menunjukkan adanya positive skewness karena nilai Mean lebih besar daripada Median"
   ]
  },
  {
   "cell_type": "markdown",
   "metadata": {},
   "source": [
    "## 3. Measure of Central Tendency : Modus"
   ]
  },
  {
   "cell_type": "markdown",
   "metadata": {},
   "source": [
    "<p>Modus adalah nilai atau kategori yang paling sering muncul dalam data.</p>"
   ]
  },
  {
   "cell_type": "code",
   "execution_count": 25,
   "metadata": {},
   "outputs": [
    {
     "data": {
      "text/plain": [
       "01 ONE FAMILY DWELLINGS                         12354\n",
       "02 TWO FAMILY DWELLINGS                          9526\n",
       "10 COOPS - ELEVATOR APARTMENTS                   2649\n",
       "13 CONDOS - ELEVATOR APARTMENTS                  2634\n",
       "03 THREE FAMILY DWELLINGS                        2243\n",
       "07 RENTALS - WALKUP APARTMENTS                   1352\n",
       "15 CONDOS - 2-10 UNIT RESIDENTIAL                 775\n",
       "04 TAX CLASS 1 CONDOS                             534\n",
       "09 COOPS - WALKUP APARTMENTS                      493\n",
       "12 CONDOS - WALKUP APARTMENTS                     365\n",
       "22 STORE BUILDINGS                                355\n",
       "14 RENTALS - 4-10 UNIT                            284\n",
       "05 TAX CLASS 1 VACANT LAND                        198\n",
       "29 COMMERCIAL GARAGES                             196\n",
       "21 OFFICE BUILDINGS                               128\n",
       "30 WAREHOUSES                                     122\n",
       "27 FACTORIES                                       69\n",
       "31 COMMERCIAL VACANT LAND                          63\n",
       "44 CONDO PARKING                                   63\n",
       "37 RELIGIOUS FACILITIES                            48\n",
       "41 TAX CLASS 4 - OTHER                             33\n",
       "43 CONDO OFFICE BUILDINGS                          30\n",
       "17 CONDO COOPS                                     29\n",
       "06 TAX CLASS 1 - OTHER                             24\n",
       "08 RENTALS - ELEVATOR APARTMENTS                   21\n",
       "16 CONDOS - 2-10 UNIT WITH COMMERCIAL UNIT         14\n",
       "33 EDUCATIONAL FACILITIES                          13\n",
       "32 HOSPITAL AND HEALTH FACILITIES                  13\n",
       "35 INDOOR PUBLIC AND CULTURAL FACILITIES           13\n",
       "46 CONDO STORE BUILDINGS                           12\n",
       "26 OTHER HOTELS                                     9\n",
       "11A CONDO-RENTALS                                   8\n",
       "38 ASYLUMS AND HOMES                                7\n",
       "23 LOFT BUILDINGS                                   6\n",
       "48 CONDO TERRACES/GARDENS/CABANAS                   4\n",
       "11 SPECIAL CONDO BILLING LOTS                       1\n",
       "28 COMMERCIAL CONDOS                                1\n",
       "36 OUTDOOR RECREATIONAL FACILITIES                  1\n",
       "39 TRANSPORTATION FACILITIES                        1\n",
       "42 CONDO CULTURAL/MEDICAL/EDUCATIONAL/ETC           1\n",
       "18 TAX CLASS 3 - UNTILITY PROPERTIES                0\n",
       "25 LUXURY HOTELS                                    0\n",
       "34 THEATRES                                         0\n",
       "40 SELECTED GOVERNMENTAL FACILITIES                 0\n",
       "45 CONDO HOTELS                                     0\n",
       "47 CONDO NON-BUSINESS STORAGE                       0\n",
       "49 CONDO WAREHOUSES/FACTORY/INDUS                   0\n",
       "Name: BUILDING CLASS CATEGORY, dtype: int64"
      ]
     },
     "execution_count": 25,
     "metadata": {},
     "output_type": "execute_result"
    }
   ],
   "source": [
    "total_bangunan = df_sales['BUILDING CLASS CATEGORY'].value_counts()\n",
    "\n",
    "total_bangunan"
   ]
  },
  {
   "cell_type": "markdown",
   "metadata": {},
   "source": [
    "<p><b>BUILDING CLASS CATEGORY</b> yang paling banyak muncul pada dataset ini adalah <b>ONE FAMILY DWELLINGS</b> dengan jumlah total 12327</p>"
   ]
  },
  {
   "cell_type": "markdown",
   "metadata": {},
   "source": [
    "## 4. Measure of Spread : Range"
   ]
  },
  {
   "cell_type": "markdown",
   "metadata": {},
   "source": [
    "<p>Range atau Rentang adalah salah satu teknik statistik deskriptif yang paling sederhana. Range adalah perbedaan antara nilai terendah dan tertinggi.</p>"
   ]
  },
  {
   "cell_type": "code",
   "execution_count": 26,
   "metadata": {},
   "outputs": [
    {
     "name": "stdout",
     "output_type": "stream",
     "text": [
      "0\n"
     ]
    }
   ],
   "source": [
    "minimal = total_bangunan.min()\n",
    "\n",
    "print(minimal)"
   ]
  },
  {
   "cell_type": "code",
   "execution_count": 27,
   "metadata": {},
   "outputs": [
    {
     "name": "stdout",
     "output_type": "stream",
     "text": [
      "12354\n"
     ]
    }
   ],
   "source": [
    "maximal = total_bangunan.max()\n",
    "\n",
    "print(maximal)"
   ]
  },
  {
   "cell_type": "code",
   "execution_count": 28,
   "metadata": {},
   "outputs": [
    {
     "name": "stdout",
     "output_type": "stream",
     "text": [
      "12354\n"
     ]
    }
   ],
   "source": [
    "# Menghitung Range\n",
    "jarak = maximal - minimal\n",
    "\n",
    "print(jarak)"
   ]
  },
  {
   "cell_type": "markdown",
   "metadata": {},
   "source": [
    "## 5. Measure of Spread : Variance"
   ]
  },
  {
   "cell_type": "markdown",
   "metadata": {},
   "source": [
    "<p>Variance atau Varians adalah kuadrat jarak rata-rata antara setiap kuantitas dan mean. Variance adalah kuadrat dari <b>Standar Deviasi</b></p>"
   ]
  },
  {
   "cell_type": "code",
   "execution_count": 29,
   "metadata": {},
   "outputs": [
    {
     "data": {
      "text/plain": [
       "426769738804.34357"
      ]
     },
     "execution_count": 29,
     "metadata": {},
     "output_type": "execute_result"
    }
   ],
   "source": [
    "var_ = df_sales['SALE PRICE'].var()\n",
    "var_"
   ]
  },
  {
   "cell_type": "markdown",
   "metadata": {},
   "source": [
    "## 6. Measure of Spread : Standard Deviation"
   ]
  },
  {
   "cell_type": "markdown",
   "metadata": {},
   "source": [
    "<p>Standard Deviation atau Simpangan Baku adalah pengukuran jarak rata-rata antara setiap besaran dan mean.</p> \n",
    "<ul>\n",
    "    <li>Standar Deviasi yang <b>rendah</b> menunjukkan bahwa titik data cenderung mendekati rata-rata kumpulan data. </li>\n",
    "    <li>Standar Deviasi yang <b>tinggi</b> menunjukkan bahwa titik data tersebar di nilai yang lebih luas.</li>\n",
    "</ul>"
   ]
  },
  {
   "cell_type": "code",
   "execution_count": 30,
   "metadata": {},
   "outputs": [
    {
     "data": {
      "text/plain": [
       "653276.1581477956"
      ]
     },
     "execution_count": 30,
     "metadata": {},
     "output_type": "execute_result"
    }
   ],
   "source": [
    "std_ = var_ ** 0.5\n",
    "std_"
   ]
  },
  {
   "cell_type": "markdown",
   "metadata": {},
   "source": [
    "atau"
   ]
  },
  {
   "cell_type": "code",
   "execution_count": 31,
   "metadata": {},
   "outputs": [
    {
     "name": "stdout",
     "output_type": "stream",
     "text": [
      "653276.1581477956\n"
     ]
    }
   ],
   "source": [
    "standar = df_sales['SALE PRICE'].std()\n",
    "\n",
    "print(standar)"
   ]
  },
  {
   "cell_type": "markdown",
   "metadata": {},
   "source": [
    "## 7. Probability Distribution"
   ]
  },
  {
   "cell_type": "markdown",
   "metadata": {},
   "source": [
    "<p>Probability Distribution adalah fungsi di bawah teori dan statistik probabilitas yang memberi seberapa besar kemungkinan hasil yang berbeda dalam sebuah eksperimen. Menggambarkan peristiwa dalam hal probabilitasnya dari semua kemungkinan hasil.</p>"
   ]
  },
  {
   "cell_type": "code",
   "execution_count": 32,
   "metadata": {},
   "outputs": [
    {
     "data": {
      "text/plain": [
       "0.003689611437795457"
      ]
     },
     "execution_count": 32,
     "metadata": {},
     "output_type": "execute_result"
    }
   ],
   "source": [
    "# Menghitung Probability Distribution dari Office Buildings dari Building Class Category\n",
    "# p_of = jumlah office building / jumlah seluruh building dari Class Category\n",
    "p_of = 128/34692\n",
    "p_of"
   ]
  },
  {
   "cell_type": "code",
   "execution_count": 33,
   "metadata": {},
   "outputs": [
    {
     "name": "stdout",
     "output_type": "stream",
     "text": [
      "0.14759631798190956\n"
     ]
    },
    {
     "data": {
      "image/png": "[encoded data removed]",
      "text/plain": [
       "<Figure size 432x288 with 1 Axes>"
      ]
     },
     "metadata": {
      "needs_background": "light"
     },
     "output_type": "display_data"
    }
   ],
   "source": [
    "# Distribusi Normal\n",
    "df_sales['SALE PRICE']=np.log(df_sales['SALE PRICE'])\n",
    "print(df_sales['SALE PRICE'].skew())\n",
    "sns.distplot(df_sales['SALE PRICE']);"
   ]
  },
  {
   "cell_type": "markdown",
   "metadata": {},
   "source": [
    "Data distribusi sudah tidak terdapat skewness yang berarti sebaran data sudah normal"
   ]
  },
  {
   "cell_type": "markdown",
   "metadata": {},
   "source": [
    "## 8. Convidence Intervals"
   ]
  },
  {
   "cell_type": "markdown",
   "metadata": {},
   "source": [
    "<p>Confidence Interval (CI) adalah jenis estimasi yang dihitung dari data statistik yang diamati. CI digunakan unuk mengukur seberapa akurat Mean sebuah sample mewakili (mencakup) nilai Mean Populasi sesungguhnya. Jadi, Confidence Interval adalah rentang antara dua nilai dimana nilai suatu Sample Mean tepat berada di tengah-tengahnya.</p>"
   ]
  },
  {
   "cell_type": "code",
   "execution_count": 34,
   "metadata": {},
   "outputs": [],
   "source": [
    "# Menghitung CI dari Office Buildings dari Building Class Category\n",
    "Office = df_sales[df_sales['BUILDING CLASS CATEGORY'] =='OFFICE BUILDINGS']"
   ]
  },
  {
   "cell_type": "code",
   "execution_count": 35,
   "metadata": {},
   "outputs": [],
   "source": [
    "n = 34692"
   ]
  },
  {
   "cell_type": "code",
   "execution_count": 36,
   "metadata": {},
   "outputs": [
    {
     "data": {
      "text/plain": [
       "0.003689611437795457"
      ]
     },
     "execution_count": 36,
     "metadata": {},
     "output_type": "execute_result"
    }
   ],
   "source": [
    "p_of = 128/n\n",
    "p_of"
   ]
  },
  {
   "cell_type": "code",
   "execution_count": 37,
   "metadata": {},
   "outputs": [
    {
     "data": {
      "text/plain": [
       "0.0003255164769176591"
      ]
     },
     "execution_count": 37,
     "metadata": {},
     "output_type": "execute_result"
    }
   ],
   "source": [
    "se_of = np.sqrt(p_of * (1-p_of) / n)\n",
    "se_of"
   ]
  },
  {
   "cell_type": "code",
   "execution_count": 38,
   "metadata": {},
   "outputs": [
    {
     "data": {
      "text/plain": [
       "(0.0030515991430368453, 0.004327623732554069)"
      ]
     },
     "execution_count": 38,
     "metadata": {},
     "output_type": "execute_result"
    }
   ],
   "source": [
    "z_score = 1.96\n",
    "\n",
    "lcb = p_of - z_score * se_of #lower limit dari CI\n",
    "ucb = p_of + z_score * se_of #upper limit dari CI\n",
    "\n",
    "lcb,ucb"
   ]
  },
  {
   "cell_type": "markdown",
   "metadata": {},
   "source": [
    "atau"
   ]
  },
  {
   "cell_type": "code",
   "execution_count": 39,
   "metadata": {},
   "outputs": [
    {
     "data": {
      "text/plain": [
       "(0.0030516108666624815, 0.004327612008928433)"
      ]
     },
     "execution_count": 39,
     "metadata": {},
     "output_type": "execute_result"
    }
   ],
   "source": [
    "sm.stats.proportion_confint(n * p_of, n)"
   ]
  },
  {
   "cell_type": "markdown",
   "metadata": {},
   "source": [
    "Jadi, Convidence Interval adalah 0.0030516108666624815 dan 0.004327612008928433"
   ]
  },
  {
   "cell_type": "markdown",
   "metadata": {},
   "source": [
    "## 9. Hypothesis Testing"
   ]
  },
  {
   "cell_type": "markdown",
   "metadata": {},
   "source": [
    "<p>Hipotesis adalah anggapan dasar atau jawaban sementara terhadap masalah yang masih bersifat praduga karena masih harus dibuktikan kebenarannya. Hipotesis harus dapat diuji, baik dengan eksperimen atau observasi.</p>\n",
    "<p>Hypothesis Testing dalam statistik adalah cara menguji hasil survey atau eksperimen untuk melihat apakah memiliki hasil yang bermakna. Pada dasarnya menguji apakah hasil valid dengan mencari tahu kemungkinan bahwa hasil terjadi secara kebetulan.</p>"
   ]
  },
  {
   "cell_type": "code",
   "execution_count": 40,
   "metadata": {},
   "outputs": [],
   "source": [
    "df_sales['BOROUGH'] = df_sales['BOROUGH'].astype(str)\n",
    "df_sales['BOROUGH'] = df_sales['BOROUGH'].str.replace(\"1\", \"Manhattan\")\n",
    "df_sales['BOROUGH'] = df_sales['BOROUGH'].str.replace(\"2\", \"Bronx\")\n",
    "df_sales['BOROUGH'] = df_sales['BOROUGH'].str.replace(\"3\", \"Brooklyn\")\n",
    "df_sales['BOROUGH'] = df_sales['BOROUGH'].str.replace(\"4\", \"Queens\")\n",
    "df_sales['BOROUGH'] = df_sales['BOROUGH'].str.replace(\"5\", \"Staten Island\")"
   ]
  },
  {
   "cell_type": "code",
   "execution_count": 41,
   "metadata": {},
   "outputs": [
    {
     "data": {
      "text/html": [
       "<div>\n",
       "<style scoped>\n",
       "    .dataframe tbody tr th:only-of-type {\n",
       "        vertical-align: middle;\n",
       "    }\n",
       "\n",
       "    .dataframe tbody tr th {\n",
       "        vertical-align: top;\n",
       "    }\n",
       "\n",
       "    .dataframe thead th {\n",
       "        text-align: right;\n",
       "    }\n",
       "</style>\n",
       "<table border=\"1\" class=\"dataframe\">\n",
       "  <thead>\n",
       "    <tr style=\"text-align: right;\">\n",
       "      <th></th>\n",
       "      <th>BOROUGH</th>\n",
       "      <th>NEIGHBORHOOD</th>\n",
       "      <th>BUILDING CLASS CATEGORY</th>\n",
       "      <th>TAX CLASS AT PRESENT</th>\n",
       "      <th>BLOCK</th>\n",
       "      <th>LOT</th>\n",
       "      <th>BUILDING CLASS AT PRESENT</th>\n",
       "      <th>RESIDENTIAL UNITS</th>\n",
       "      <th>COMMERCIAL UNITS</th>\n",
       "      <th>TOTAL UNITS</th>\n",
       "      <th>LAND SQUARE FEET</th>\n",
       "      <th>GROSS SQUARE FEET</th>\n",
       "      <th>YEAR BUILT</th>\n",
       "      <th>TAX CLASS AT TIME OF SALE</th>\n",
       "      <th>BUILDING CLASS AT TIME OF SALE</th>\n",
       "      <th>SALE PRICE</th>\n",
       "      <th>SALE DATE</th>\n",
       "    </tr>\n",
       "  </thead>\n",
       "  <tbody>\n",
       "    <tr>\n",
       "      <th>3</th>\n",
       "      <td>Manhattan</td>\n",
       "      <td>ALPHABET CITY</td>\n",
       "      <td>07 RENTALS - WALKUP APARTMENTS</td>\n",
       "      <td>2B</td>\n",
       "      <td>402</td>\n",
       "      <td>21</td>\n",
       "      <td>C4</td>\n",
       "      <td>10</td>\n",
       "      <td>0</td>\n",
       "      <td>10</td>\n",
       "      <td>2272.0</td>\n",
       "      <td>6794.0</td>\n",
       "      <td>1913</td>\n",
       "      <td>2</td>\n",
       "      <td>C4</td>\n",
       "      <td>15.185745</td>\n",
       "      <td>2016-09-23</td>\n",
       "    </tr>\n",
       "    <tr>\n",
       "      <th>6</th>\n",
       "      <td>Manhattan</td>\n",
       "      <td>ALPHABET CITY</td>\n",
       "      <td>07 RENTALS - WALKUP APARTMENTS</td>\n",
       "      <td>2B</td>\n",
       "      <td>406</td>\n",
       "      <td>32</td>\n",
       "      <td>C4</td>\n",
       "      <td>8</td>\n",
       "      <td>0</td>\n",
       "      <td>8</td>\n",
       "      <td>1750.0</td>\n",
       "      <td>4226.0</td>\n",
       "      <td>1920</td>\n",
       "      <td>2</td>\n",
       "      <td>C4</td>\n",
       "      <td>14.976421</td>\n",
       "      <td>2016-09-23</td>\n",
       "    </tr>\n",
       "    <tr>\n",
       "      <th>172</th>\n",
       "      <td>Manhattan</td>\n",
       "      <td>ALPHABET CITY</td>\n",
       "      <td>14 RENTALS - 4-10 UNIT</td>\n",
       "      <td>2A</td>\n",
       "      <td>391</td>\n",
       "      <td>19</td>\n",
       "      <td>S3</td>\n",
       "      <td>3</td>\n",
       "      <td>1</td>\n",
       "      <td>4</td>\n",
       "      <td>1520.0</td>\n",
       "      <td>3360.0</td>\n",
       "      <td>1910</td>\n",
       "      <td>2</td>\n",
       "      <td>S3</td>\n",
       "      <td>15.009433</td>\n",
       "      <td>2016-11-15</td>\n",
       "    </tr>\n",
       "    <tr>\n",
       "      <th>174</th>\n",
       "      <td>Manhattan</td>\n",
       "      <td>ALPHABET CITY</td>\n",
       "      <td>14 RENTALS - 4-10 UNIT</td>\n",
       "      <td>2A</td>\n",
       "      <td>394</td>\n",
       "      <td>5</td>\n",
       "      <td>S5</td>\n",
       "      <td>5</td>\n",
       "      <td>1</td>\n",
       "      <td>6</td>\n",
       "      <td>1779.0</td>\n",
       "      <td>3713.0</td>\n",
       "      <td>1910</td>\n",
       "      <td>2</td>\n",
       "      <td>S5</td>\n",
       "      <td>15.373655</td>\n",
       "      <td>2017-04-03</td>\n",
       "    </tr>\n",
       "    <tr>\n",
       "      <th>195</th>\n",
       "      <td>Manhattan</td>\n",
       "      <td>ALPHABET CITY</td>\n",
       "      <td>22 STORE BUILDINGS</td>\n",
       "      <td>4</td>\n",
       "      <td>390</td>\n",
       "      <td>34</td>\n",
       "      <td>K4</td>\n",
       "      <td>0</td>\n",
       "      <td>1</td>\n",
       "      <td>1</td>\n",
       "      <td>1218.0</td>\n",
       "      <td>3586.0</td>\n",
       "      <td>1899</td>\n",
       "      <td>4</td>\n",
       "      <td>K4</td>\n",
       "      <td>15.123843</td>\n",
       "      <td>2016-09-28</td>\n",
       "    </tr>\n",
       "    <tr>\n",
       "      <th>...</th>\n",
       "      <td>...</td>\n",
       "      <td>...</td>\n",
       "      <td>...</td>\n",
       "      <td>...</td>\n",
       "      <td>...</td>\n",
       "      <td>...</td>\n",
       "      <td>...</td>\n",
       "      <td>...</td>\n",
       "      <td>...</td>\n",
       "      <td>...</td>\n",
       "      <td>...</td>\n",
       "      <td>...</td>\n",
       "      <td>...</td>\n",
       "      <td>...</td>\n",
       "      <td>...</td>\n",
       "      <td>...</td>\n",
       "      <td>...</td>\n",
       "    </tr>\n",
       "    <tr>\n",
       "      <th>84540</th>\n",
       "      <td>Staten Island</td>\n",
       "      <td>WOODROW</td>\n",
       "      <td>02 TWO FAMILY DWELLINGS</td>\n",
       "      <td>1</td>\n",
       "      <td>7316</td>\n",
       "      <td>93</td>\n",
       "      <td>B2</td>\n",
       "      <td>2</td>\n",
       "      <td>0</td>\n",
       "      <td>2</td>\n",
       "      <td>3325.0</td>\n",
       "      <td>1300.0</td>\n",
       "      <td>1995</td>\n",
       "      <td>1</td>\n",
       "      <td>B2</td>\n",
       "      <td>13.140203</td>\n",
       "      <td>2016-10-31</td>\n",
       "    </tr>\n",
       "    <tr>\n",
       "      <th>84541</th>\n",
       "      <td>Staten Island</td>\n",
       "      <td>WOODROW</td>\n",
       "      <td>02 TWO FAMILY DWELLINGS</td>\n",
       "      <td>1</td>\n",
       "      <td>7317</td>\n",
       "      <td>126</td>\n",
       "      <td>B2</td>\n",
       "      <td>2</td>\n",
       "      <td>0</td>\n",
       "      <td>2</td>\n",
       "      <td>11088.0</td>\n",
       "      <td>2160.0</td>\n",
       "      <td>1994</td>\n",
       "      <td>1</td>\n",
       "      <td>B2</td>\n",
       "      <td>13.381646</td>\n",
       "      <td>2016-12-07</td>\n",
       "    </tr>\n",
       "    <tr>\n",
       "      <th>84543</th>\n",
       "      <td>Staten Island</td>\n",
       "      <td>WOODROW</td>\n",
       "      <td>02 TWO FAMILY DWELLINGS</td>\n",
       "      <td>1</td>\n",
       "      <td>7349</td>\n",
       "      <td>34</td>\n",
       "      <td>B9</td>\n",
       "      <td>2</td>\n",
       "      <td>0</td>\n",
       "      <td>2</td>\n",
       "      <td>2400.0</td>\n",
       "      <td>2575.0</td>\n",
       "      <td>1998</td>\n",
       "      <td>1</td>\n",
       "      <td>B9</td>\n",
       "      <td>13.017003</td>\n",
       "      <td>2016-11-28</td>\n",
       "    </tr>\n",
       "    <tr>\n",
       "      <th>84544</th>\n",
       "      <td>Staten Island</td>\n",
       "      <td>WOODROW</td>\n",
       "      <td>02 TWO FAMILY DWELLINGS</td>\n",
       "      <td>1</td>\n",
       "      <td>7349</td>\n",
       "      <td>78</td>\n",
       "      <td>B9</td>\n",
       "      <td>2</td>\n",
       "      <td>0</td>\n",
       "      <td>2</td>\n",
       "      <td>2498.0</td>\n",
       "      <td>2377.0</td>\n",
       "      <td>1998</td>\n",
       "      <td>1</td>\n",
       "      <td>B9</td>\n",
       "      <td>13.217674</td>\n",
       "      <td>2017-04-21</td>\n",
       "    </tr>\n",
       "    <tr>\n",
       "      <th>84545</th>\n",
       "      <td>Staten Island</td>\n",
       "      <td>WOODROW</td>\n",
       "      <td>02 TWO FAMILY DWELLINGS</td>\n",
       "      <td>1</td>\n",
       "      <td>7351</td>\n",
       "      <td>60</td>\n",
       "      <td>B2</td>\n",
       "      <td>2</td>\n",
       "      <td>0</td>\n",
       "      <td>2</td>\n",
       "      <td>4000.0</td>\n",
       "      <td>1496.0</td>\n",
       "      <td>1925</td>\n",
       "      <td>1</td>\n",
       "      <td>B2</td>\n",
       "      <td>13.038982</td>\n",
       "      <td>2017-07-05</td>\n",
       "    </tr>\n",
       "  </tbody>\n",
       "</table>\n",
       "<p>34692 rows × 17 columns</p>\n",
       "</div>"
      ],
      "text/plain": [
       "             BOROUGH   NEIGHBORHOOD  \\\n",
       "3          Manhattan  ALPHABET CITY   \n",
       "6          Manhattan  ALPHABET CITY   \n",
       "172        Manhattan  ALPHABET CITY   \n",
       "174        Manhattan  ALPHABET CITY   \n",
       "195        Manhattan  ALPHABET CITY   \n",
       "...              ...            ...   \n",
       "84540  Staten Island        WOODROW   \n",
       "84541  Staten Island        WOODROW   \n",
       "84543  Staten Island        WOODROW   \n",
       "84544  Staten Island        WOODROW   \n",
       "84545  Staten Island        WOODROW   \n",
       "\n",
       "                           BUILDING CLASS CATEGORY TAX CLASS AT PRESENT  \\\n",
       "3      07 RENTALS - WALKUP APARTMENTS                                2B   \n",
       "6      07 RENTALS - WALKUP APARTMENTS                                2B   \n",
       "172    14 RENTALS - 4-10 UNIT                                        2A   \n",
       "174    14 RENTALS - 4-10 UNIT                                        2A   \n",
       "195    22 STORE BUILDINGS                                             4   \n",
       "...                                            ...                  ...   \n",
       "84540  02 TWO FAMILY DWELLINGS                                        1   \n",
       "84541  02 TWO FAMILY DWELLINGS                                        1   \n",
       "84543  02 TWO FAMILY DWELLINGS                                        1   \n",
       "84544  02 TWO FAMILY DWELLINGS                                        1   \n",
       "84545  02 TWO FAMILY DWELLINGS                                        1   \n",
       "\n",
       "       BLOCK  LOT BUILDING CLASS AT PRESENT  RESIDENTIAL UNITS  \\\n",
       "3        402   21                        C4                 10   \n",
       "6        406   32                        C4                  8   \n",
       "172      391   19                        S3                  3   \n",
       "174      394    5                        S5                  5   \n",
       "195      390   34                        K4                  0   \n",
       "...      ...  ...                       ...                ...   \n",
       "84540   7316   93                        B2                  2   \n",
       "84541   7317  126                        B2                  2   \n",
       "84543   7349   34                        B9                  2   \n",
       "84544   7349   78                        B9                  2   \n",
       "84545   7351   60                        B2                  2   \n",
       "\n",
       "       COMMERCIAL UNITS  TOTAL UNITS  LAND SQUARE FEET  GROSS SQUARE FEET  \\\n",
       "3                     0           10            2272.0             6794.0   \n",
       "6                     0            8            1750.0             4226.0   \n",
       "172                   1            4            1520.0             3360.0   \n",
       "174                   1            6            1779.0             3713.0   \n",
       "195                   1            1            1218.0             3586.0   \n",
       "...                 ...          ...               ...                ...   \n",
       "84540                 0            2            3325.0             1300.0   \n",
       "84541                 0            2           11088.0             2160.0   \n",
       "84543                 0            2            2400.0             2575.0   \n",
       "84544                 0            2            2498.0             2377.0   \n",
       "84545                 0            2            4000.0             1496.0   \n",
       "\n",
       "       YEAR BUILT TAX CLASS AT TIME OF SALE BUILDING CLASS AT TIME OF SALE  \\\n",
       "3            1913                         2                             C4   \n",
       "6            1920                         2                             C4   \n",
       "172          1910                         2                             S3   \n",
       "174          1910                         2                             S5   \n",
       "195          1899                         4                             K4   \n",
       "...           ...                       ...                            ...   \n",
       "84540        1995                         1                             B2   \n",
       "84541        1994                         1                             B2   \n",
       "84543        1998                         1                             B9   \n",
       "84544        1998                         1                             B9   \n",
       "84545        1925                         1                             B2   \n",
       "\n",
       "       SALE PRICE  SALE DATE  \n",
       "3       15.185745 2016-09-23  \n",
       "6       14.976421 2016-09-23  \n",
       "172     15.009433 2016-11-15  \n",
       "174     15.373655 2017-04-03  \n",
       "195     15.123843 2016-09-28  \n",
       "...           ...        ...  \n",
       "84540   13.140203 2016-10-31  \n",
       "84541   13.381646 2016-12-07  \n",
       "84543   13.017003 2016-11-28  \n",
       "84544   13.217674 2017-04-21  \n",
       "84545   13.038982 2017-07-05  \n",
       "\n",
       "[34692 rows x 17 columns]"
      ]
     },
     "execution_count": 41,
     "metadata": {},
     "output_type": "execute_result"
    }
   ],
   "source": [
    "df_sales"
   ]
  },
  {
   "cell_type": "code",
   "execution_count": 42,
   "metadata": {},
   "outputs": [
    {
     "data": {
      "text/html": [
       "<div>\n",
       "<style scoped>\n",
       "    .dataframe tbody tr th:only-of-type {\n",
       "        vertical-align: middle;\n",
       "    }\n",
       "\n",
       "    .dataframe tbody tr th {\n",
       "        vertical-align: top;\n",
       "    }\n",
       "\n",
       "    .dataframe thead th {\n",
       "        text-align: right;\n",
       "    }\n",
       "</style>\n",
       "<table border=\"1\" class=\"dataframe\">\n",
       "  <thead>\n",
       "    <tr style=\"text-align: right;\">\n",
       "      <th></th>\n",
       "      <th>BLOCK</th>\n",
       "      <th>LOT</th>\n",
       "      <th>RESIDENTIAL UNITS</th>\n",
       "      <th>COMMERCIAL UNITS</th>\n",
       "      <th>TOTAL UNITS</th>\n",
       "      <th>LAND SQUARE FEET</th>\n",
       "      <th>GROSS SQUARE FEET</th>\n",
       "      <th>YEAR BUILT</th>\n",
       "      <th>SALE PRICE</th>\n",
       "    </tr>\n",
       "    <tr>\n",
       "      <th>BOROUGH</th>\n",
       "      <th></th>\n",
       "      <th></th>\n",
       "      <th></th>\n",
       "      <th></th>\n",
       "      <th></th>\n",
       "      <th></th>\n",
       "      <th></th>\n",
       "      <th></th>\n",
       "      <th></th>\n",
       "    </tr>\n",
       "  </thead>\n",
       "  <tbody>\n",
       "    <tr>\n",
       "      <th>Bronx</th>\n",
       "      <td>19585559</td>\n",
       "      <td>1370003</td>\n",
       "      <td>8550</td>\n",
       "      <td>398</td>\n",
       "      <td>8947</td>\n",
       "      <td>10882624.0</td>\n",
       "      <td>9701223.0</td>\n",
       "      <td>8216376</td>\n",
       "      <td>58809.674241</td>\n",
       "    </tr>\n",
       "    <tr>\n",
       "      <th>Brooklyn</th>\n",
       "      <td>61616042</td>\n",
       "      <td>5466898</td>\n",
       "      <td>22069</td>\n",
       "      <td>1182</td>\n",
       "      <td>23341</td>\n",
       "      <td>22044154.0</td>\n",
       "      <td>21859405.0</td>\n",
       "      <td>25773358</td>\n",
       "      <td>196625.898233</td>\n",
       "    </tr>\n",
       "    <tr>\n",
       "      <th>Manhattan</th>\n",
       "      <td>506732</td>\n",
       "      <td>17482</td>\n",
       "      <td>2384</td>\n",
       "      <td>242</td>\n",
       "      <td>2625</td>\n",
       "      <td>861416.0</td>\n",
       "      <td>4033676.0</td>\n",
       "      <td>589305</td>\n",
       "      <td>4456.865101</td>\n",
       "    </tr>\n",
       "    <tr>\n",
       "      <th>Queens</th>\n",
       "      <td>84318984</td>\n",
       "      <td>568145</td>\n",
       "      <td>20304</td>\n",
       "      <td>3141</td>\n",
       "      <td>23437</td>\n",
       "      <td>39427791.0</td>\n",
       "      <td>25687267.0</td>\n",
       "      <td>20311476</td>\n",
       "      <td>139840.960343</td>\n",
       "    </tr>\n",
       "    <tr>\n",
       "      <th>Staten Island</th>\n",
       "      <td>16335608</td>\n",
       "      <td>397679</td>\n",
       "      <td>6442</td>\n",
       "      <td>464</td>\n",
       "      <td>6900</td>\n",
       "      <td>24941536.0</td>\n",
       "      <td>10624523.0</td>\n",
       "      <td>9509788</td>\n",
       "      <td>63271.693318</td>\n",
       "    </tr>\n",
       "  </tbody>\n",
       "</table>\n",
       "</div>"
      ],
      "text/plain": [
       "                  BLOCK      LOT  RESIDENTIAL UNITS  COMMERCIAL UNITS  \\\n",
       "BOROUGH                                                                 \n",
       "Bronx          19585559  1370003               8550               398   \n",
       "Brooklyn       61616042  5466898              22069              1182   \n",
       "Manhattan        506732    17482               2384               242   \n",
       "Queens         84318984   568145              20304              3141   \n",
       "Staten Island  16335608   397679               6442               464   \n",
       "\n",
       "               TOTAL UNITS  LAND SQUARE FEET  GROSS SQUARE FEET  YEAR BUILT  \\\n",
       "BOROUGH                                                                       \n",
       "Bronx                 8947        10882624.0          9701223.0     8216376   \n",
       "Brooklyn             23341        22044154.0         21859405.0    25773358   \n",
       "Manhattan             2625          861416.0          4033676.0      589305   \n",
       "Queens               23437        39427791.0         25687267.0    20311476   \n",
       "Staten Island         6900        24941536.0         10624523.0     9509788   \n",
       "\n",
       "                  SALE PRICE  \n",
       "BOROUGH                       \n",
       "Bronx           58809.674241  \n",
       "Brooklyn       196625.898233  \n",
       "Manhattan        4456.865101  \n",
       "Queens         139840.960343  \n",
       "Staten Island   63271.693318  "
      ]
     },
     "execution_count": 42,
     "metadata": {},
     "output_type": "execute_result"
    }
   ],
   "source": [
    "df_borough = df_sales.groupby('BOROUGH', axis=0).sum()\n",
    "\n",
    "df_borough"
   ]
  },
  {
   "cell_type": "markdown",
   "metadata": {},
   "source": [
    "\n",
    "\n",
    "Dengan melihat data diatas, apakah harga rata rata per unit pada borough Staten Island lebih besar secara signifikan daripada Bronx?\n",
    "<ul>\n",
    "    <li>h0 = Tidak ada perbedaan secara signifikan pada harga rata rata perunit antara borough Staten Island dan Bronx</li>\n",
    "    <li>h1 = Terdapat perbedaan secara signifikan pada harga rata rata per unit antara borugh Staten Island dan Bronx</li>\n",
    "\n",
    "</ul>"
   ]
  },
  {
   "cell_type": "code",
   "execution_count": 43,
   "metadata": {},
   "outputs": [],
   "source": [
    "Queens = df_sales[df_sales['BOROUGH']=='Queens']\n",
    "Staten_Island = df_sales[df_sales['BOROUGH']=='Staten Island']"
   ]
  },
  {
   "cell_type": "code",
   "execution_count": 44,
   "metadata": {},
   "outputs": [
    {
     "data": {
      "text/plain": [
       "(23437, 13.346150061358832, 0.5459676075936886)"
      ]
     },
     "execution_count": 44,
     "metadata": {},
     "output_type": "execute_result"
    }
   ],
   "source": [
    "total_unit_Queens = df_borough.iloc[-2, 4]\n",
    "mu_Queens = Queens['SALE PRICE'].mean()\n",
    "std_Queens = Queens['SALE PRICE'].std()\n",
    "total_unit_Queens, mu_Queens, std_Queens"
   ]
  },
  {
   "cell_type": "code",
   "execution_count": 45,
   "metadata": {},
   "outputs": [
    {
     "data": {
      "text/plain": [
       "(6900, 13.091598037978054, 0.4305626958529941)"
      ]
     },
     "execution_count": 45,
     "metadata": {},
     "output_type": "execute_result"
    }
   ],
   "source": [
    "total_unit_SI = df_borough.iloc[-1, 4]\n",
    "mu_SI = Staten_Island['SALE PRICE'].mean()\n",
    "std_SI = Staten_Island['SALE PRICE'].std()\n",
    "total_unit_SI, mu_SI, std_SI"
   ]
  },
  {
   "cell_type": "code",
   "execution_count": 46,
   "metadata": {},
   "outputs": [
    {
     "name": "stdout",
     "output_type": "stream",
     "text": [
      "pval:  1.4730188768955306e-179\n",
      "reject null hypothesis\n"
     ]
    }
   ],
   "source": [
    "from statsmodels.stats.weightstats import ztest\n",
    "ztest, pval= ztest(Staten_Island['SALE PRICE'],Queens['SALE PRICE'])\n",
    "print(\"pval: \",float(pval))\n",
    "if pval<0.05:\n",
    "    print(\"reject null hypothesis\")\n",
    "else:\n",
    "    print(\"accept null hypothesis\")"
   ]
  },
  {
   "cell_type": "markdown",
   "metadata": {},
   "source": [
    "Dengan hasil ini dapat ditarik kesimpulan bahwa terdapat perbedaan yang cukup signifikan pada harga rata-rata per unit antara Borough Staten Island dengan Queens"
   ]
  }
 ],
 "metadata": {
  "kernelspec": {
   "display_name": "Python 3",
   "language": "python",
   "name": "python3"
  },
  "language_info": {
   "codemirror_mode": {
    "name": "ipython",
    "version": 3
   },
   "file_extension": ".py",
   "mimetype": "text/x-python",
   "name": "python",
   "nbconvert_exporter": "python",
   "pygments_lexer": "ipython3",
   "version": "3.8.3"
  }
 },
 "nbformat": 4,
 "nbformat_minor": 4
}
